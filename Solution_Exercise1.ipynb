{
 "cells": [
  {
   "cell_type": "code",
   "execution_count": 1,
   "metadata": {},
   "outputs": [],
   "source": [
    "from fibonacci import fibonacci_rec, fibonacci_it"
   ]
  },
  {
   "cell_type": "code",
   "execution_count": 2,
   "metadata": {},
   "outputs": [
    {
     "data": {
      "text/plain": [
       "55"
      ]
     },
     "execution_count": 2,
     "metadata": {},
     "output_type": "execute_result"
    }
   ],
   "source": [
    "fibonacci_rec(10)"
   ]
  },
  {
   "cell_type": "code",
   "execution_count": 3,
   "metadata": {},
   "outputs": [
    {
     "ename": "AssertionError",
     "evalue": "",
     "output_type": "error",
     "traceback": [
      "\u001b[1;31m---------------------------------------------------------------------------\u001b[0m",
      "\u001b[1;31mAssertionError\u001b[0m                            Traceback (most recent call last)",
      "Cell \u001b[1;32mIn[3], line 1\u001b[0m\n\u001b[1;32m----> 1\u001b[0m \u001b[43mfibonacci_rec\u001b[49m\u001b[43m(\u001b[49m\u001b[38;5;241;43m2.7\u001b[39;49m\u001b[43m)\u001b[49m\n",
      "File \u001b[1;32mr:\\Data\\Lehre\\Data analysis and data management\\Exercises\\github excercise\\fibonacci.py:2\u001b[0m, in \u001b[0;36mfibonacci_rec\u001b[1;34m(n)\u001b[0m\n\u001b[0;32m      1\u001b[0m \u001b[38;5;28;01mdef\u001b[39;00m \u001b[38;5;21mfibonacci_rec\u001b[39m(n):\n\u001b[1;32m----> 2\u001b[0m     \u001b[38;5;28;01massert\u001b[39;00m \u001b[38;5;28misinstance\u001b[39m(n, \u001b[38;5;28mint\u001b[39m) \u001b[38;5;129;01mand\u001b[39;00m n\u001b[38;5;241m>\u001b[39m\u001b[38;5;241m=\u001b[39m\u001b[38;5;241m0\u001b[39m \u001b[38;5;66;03m# only allow non-negative integers\u001b[39;00m\n\u001b[0;32m      3\u001b[0m     \u001b[38;5;28;01mif\u001b[39;00m n\u001b[38;5;241m==\u001b[39m\u001b[38;5;241m0\u001b[39m \u001b[38;5;129;01mor\u001b[39;00m n\u001b[38;5;241m==\u001b[39m\u001b[38;5;241m1\u001b[39m: \u001b[38;5;66;03m# stop conditions\u001b[39;00m\n\u001b[0;32m      4\u001b[0m         \u001b[38;5;28;01mreturn\u001b[39;00m n                                                                             \n",
      "\u001b[1;31mAssertionError\u001b[0m: "
     ]
    }
   ],
   "source": [
    "fibonacci_rec(2.7)"
   ]
  },
  {
   "cell_type": "code",
   "execution_count": 4,
   "metadata": {},
   "outputs": [
    {
     "data": {
      "text/plain": [
       "55"
      ]
     },
     "execution_count": 4,
     "metadata": {},
     "output_type": "execute_result"
    }
   ],
   "source": [
    "fibonacci_it(10)"
   ]
  },
  {
   "cell_type": "code",
   "execution_count": 5,
   "metadata": {},
   "outputs": [
    {
     "name": "stdout",
     "output_type": "stream",
     "text": [
      "CPU times: total: 297 ms\n",
      "Wall time: 291 ms\n"
     ]
    },
    {
     "data": {
      "text/plain": [
       "832040"
      ]
     },
     "execution_count": 5,
     "metadata": {},
     "output_type": "execute_result"
    }
   ],
   "source": [
    "%time fibonacci_rec(30)"
   ]
  },
  {
   "cell_type": "code",
   "execution_count": 6,
   "metadata": {},
   "outputs": [
    {
     "name": "stdout",
     "output_type": "stream",
     "text": [
      "277 ms ± 14.2 ms per loop (mean ± std. dev. of 7 runs, 1 loop each)\n"
     ]
    }
   ],
   "source": [
    "%%timeit \n",
    "fibonacci_rec(30)"
   ]
  },
  {
   "cell_type": "code",
   "execution_count": 7,
   "metadata": {},
   "outputs": [
    {
     "name": "stdout",
     "output_type": "stream",
     "text": [
      "1.67 µs ± 23.1 ns per loop (mean ± std. dev. of 7 runs, 100,000 loops each)\n"
     ]
    }
   ],
   "source": [
    "%%timeit \n",
    "fibonacci_it(30)"
   ]
  },
  {
   "cell_type": "code",
   "execution_count": 8,
   "metadata": {},
   "outputs": [
    {
     "name": "stdout",
     "output_type": "stream",
     "text": [
      " "
     ]
    },
    {
     "name": "stdout",
     "output_type": "stream",
     "text": [
      "         5385172 function calls (2692636 primitive calls) in 1.610 seconds\n",
      "\n",
      "   Ordered by: internal time\n",
      "\n",
      "   ncalls  tottime  percall  cumtime  percall filename:lineno(function)\n",
      "2692537/1    1.310    0.000    1.609    1.609 fibonacci.py:1(fibonacci_rec)\n",
      "  2692544    0.300    0.000    0.300    0.000 {built-in method builtins.isinstance}\n",
      "        1    0.000    0.000    1.609    1.609 <string>:1(<module>)\n",
      "        1    0.000    0.000    0.000    0.000 {method 'disable' of '_lsprof.Profiler' objects}\n",
      "        1    0.000    0.000    1.609    1.609 {built-in method builtins.exec}\n",
      "        2    0.000    0.000    0.000    0.000 {method '__exit__' of 'sqlite3.Connection' objects}\n",
      "        2    0.000    0.000    0.000    0.000 traitlets.py:690(set)\n",
      "        2    0.000    0.000    0.000    0.000 traitlets.py:729(_cross_validate)\n",
      "        5    0.000    0.000    0.000    0.000 {built-in method builtins.hasattr}\n",
      "        2    0.000    0.000    0.000    0.000 traitlets.py:630(get)\n",
      "        1    0.000    0.000    0.000    0.000 ioloop.py:730(_run_callback)\n",
      "        1    0.000    0.000    0.000    0.000 selector_events.py:746(_process_events)\n",
      "        2    0.000    0.000    0.000    0.000 traitlets.py:720(_validate)\n",
      "        2    0.000    0.000    0.000    0.000 traitlets.py:3638(set)\n",
      "        1    0.000    0.000    0.000    0.000 traitlets.py:1529(_notify_observers)\n",
      "        1    0.000    0.000    0.000    0.000 iostream.py:688(_rotate_buffer)\n",
      "        2    0.000    0.000    0.000    0.000 traitlets.py:3481(validate)\n",
      "        2    0.000    0.000    0.000    0.000 traitlets.py:3631(validate_elements)\n",
      "        2    0.000    0.000    0.000    0.000 {method 'append' of 'collections.deque' objects}\n",
      "        2    0.000    0.000    0.000    0.000 base_events.py:711(time)\n",
      "        1    0.000    0.000    0.000    0.000 {built-in method _thread.allocate_lock}\n",
      "        1    0.000    0.000    0.000    0.000 events.py:82(_run)\n",
      "        1    0.000    0.000    0.000    0.000 traitlets.py:1514(_notify_trait)\n",
      "        2    0.000    0.000    0.000    0.000 traitlets.py:677(__get__)\n",
      "        4    0.000    0.000    0.000    0.000 {built-in method builtins.len}\n",
      "        2    0.000    0.000    0.000    0.000 traitlets.py:2307(validate)\n",
      "        2    0.000    0.000    0.000    0.000 traitlets.py:709(__set__)\n",
      "        1    0.000    0.000    0.000    0.000 traitlets.py:1525(notify_change)\n",
      "        1    0.000    0.000    0.000    0.000 iostream.py:681(_flush_buffer)\n",
      "        1    0.000    0.000    0.000    0.000 iostream.py:587(_flush)\n",
      "        1    0.000    0.000    0.000    0.000 history.py:830(_writeout_output_cache)\n",
      "        1    0.000    0.000    0.000    0.000 {built-in method _heapq.heappop}\n",
      "        1    0.000    0.000    0.000    0.000 {method 'run' of '_contextvars.Context' objects}\n",
      "       14    0.000    0.000    0.000    0.000 typing.py:2107(cast)\n",
      "        1    0.000    0.000    0.000    0.000 threading.py:278(__enter__)\n",
      "        1    0.000    0.000    0.000    0.000 threading.py:293(_is_owned)\n",
      "        2    0.000    0.000    0.000    0.000 traitlets.py:3493(validate_elements)\n",
      "        4    0.000    0.000    0.000    0.000 {method 'get' of 'dict' objects}\n",
      "        2    0.000    0.000    0.000    0.000 {built-in method builtins.max}\n",
      "        2    0.000    0.000    0.000    0.000 {method 'acquire' of '_thread.lock' objects}\n",
      "        1    0.000    0.000    0.000    0.000 threading.py:287(_release_save)\n",
      "        2    0.000    0.000    0.000    0.000 {method '__exit__' of '_thread.lock' objects}\n",
      "        2    0.000    0.000    0.000    0.000 {built-in method time.monotonic}\n",
      "        2    0.000    0.000    0.000    0.000 {method 'extend' of 'list' objects}\n",
      "        1    0.000    0.000    0.000    0.000 {method '__enter__' of '_thread.lock' objects}\n",
      "        1    0.000    0.000    0.000    0.000 {built-in method builtins.min}\n",
      "        1    0.000    0.000    0.000    0.000 {method 'popleft' of 'collections.deque' objects}\n",
      "        1    0.000    0.000    0.000    0.000 {method '__exit__' of '_thread.RLock' objects}\n",
      "        1    0.000    0.000    0.000    0.000 {method 'close' of '_io.StringIO' objects}\n",
      "        1    0.000    0.000    0.000    0.000 {method 'release' of '_thread.lock' objects}\n",
      "        1    0.000    0.000    0.000    0.000 {method 'getvalue' of '_io.StringIO' objects}"
     ]
    }
   ],
   "source": [
    "%prun fibonacci_rec(30)"
   ]
  },
  {
   "cell_type": "code",
   "execution_count": 9,
   "metadata": {},
   "outputs": [
    {
     "name": "stdout",
     "output_type": "stream",
     "text": [
      " "
     ]
    },
    {
     "name": "stdout",
     "output_type": "stream",
     "text": [
      "         5 function calls in 0.000 seconds\n",
      "\n",
      "   Ordered by: internal time\n",
      "\n",
      "   ncalls  tottime  percall  cumtime  percall filename:lineno(function)\n",
      "        1    0.000    0.000    0.000    0.000 {method 'disable' of '_lsprof.Profiler' objects}\n",
      "        1    0.000    0.000    0.000    0.000 {built-in method builtins.exec}\n",
      "        1    0.000    0.000    0.000    0.000 fibonacci.py:9(fibonacci_it)\n",
      "        1    0.000    0.000    0.000    0.000 <string>:1(<module>)\n",
      "        1    0.000    0.000    0.000    0.000 {built-in method builtins.isinstance}"
     ]
    }
   ],
   "source": [
    "%prun fibonacci_it(30)"
   ]
  },
  {
   "cell_type": "code",
   "execution_count": 10,
   "metadata": {},
   "outputs": [],
   "source": [
    "import matplotlib.pyplot as plt"
   ]
  },
  {
   "cell_type": "code",
   "execution_count": 11,
   "metadata": {},
   "outputs": [
    {
     "data": {
      "text/plain": [
       "[<matplotlib.lines.Line2D at 0x1bfa0c69370>]"
      ]
     },
     "execution_count": 11,
     "metadata": {},
     "output_type": "execute_result"
    },
    {
     "data": {
      "image/png": "[encoded data removed]",
      "text/plain": [
       "<Figure size 640x480 with 1 Axes>"
      ]
     },
     "metadata": {},
     "output_type": "display_data"
    }
   ],
   "source": [
    "x = range(0,11)\n",
    "y = [fibonacci_it(num) for num in x]\n",
    "plt.plot(x, y, \"o-\")"
   ]
  },
  {
   "cell_type": "code",
   "execution_count": null,
   "metadata": {},
   "outputs": [],
   "source": []
  }
 ],
 "metadata": {
  "kernelspec": {
   "display_name": "Python 3",
   "language": "python",
   "name": "python3"
  },
  "language_info": {
   "codemirror_mode": {
    "name": "ipython",
    "version": 3
   },
   "file_extension": ".py",
   "mimetype": "text/x-python",
   "name": "python",
   "nbconvert_exporter": "python",
   "pygments_lexer": "ipython3",
   "version": "3.12.0"
  }
 },
 "nbformat": 4,
 "nbformat_minor": 2
}
