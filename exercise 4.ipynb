{
 "cells": [
  {
   "cell_type": "code",
   "execution_count": null,
   "metadata": {},
   "outputs": [],
   "source": [
    "import numpy as np\n",
    "import matplotlib.pyplot as plt\n",
    "import xarray as xr"
   ]
  },
  {
   "cell_type": "markdown",
   "metadata": {},
   "source": [
    "# Task 1"
   ]
  },
  {
   "cell_type": "code",
   "execution_count": null,
   "metadata": {},
   "outputs": [],
   "source": [
    "def func(x, a):\n",
    "    return (\n",
    "        a *1/x* np.cos(x**2))"
   ]
  },
  {
   "cell_type": "code",
   "execution_count": null,
   "metadata": {},
   "outputs": [],
   "source": [
    "data = xr.DataArray(data=0, coords={\"x\":np.linspace(1, 10,100)}, dims=[\"x\"])\n",
    "data = func(data.x, 5)"
   ]
  },
  {
   "cell_type": "code",
   "execution_count": null,
   "metadata": {},
   "outputs": [],
   "source": [
    "plt.figure()\n",
    "data.plot()\n",
    "plt.show()"
   ]
  },
  {
   "cell_type": "code",
   "execution_count": null,
   "metadata": {},
   "outputs": [],
   "source": [
    "data_noise = xr.DataArray(data=0, coords={\"x\":np.linspace(1, 10,100)}, dims=[\"x\"])\n",
    "data_noise = func(data.x, 5) + np.random.normal(0, 0.2, 100)"
   ]
  },
  {
   "cell_type": "code",
   "execution_count": null,
   "metadata": {},
   "outputs": [],
   "source": [
    "plt.figure()\n",
    "plt.errorbar(data_noise.x, data_noise, 0.2, marker=\"o\", linestyle=\"\")\n",
    "data.plot()\n",
    "plt.ylabel(\"y\")\n",
    "plt.show()"
   ]
  },
  {
   "cell_type": "code",
   "execution_count": null,
   "metadata": {},
   "outputs": [],
   "source": [
    "def chi2(x, mu, sigma):\n",
    "    res = (x-mu)/sigma\n",
    "    return (res**2).sum()"
   ]
  },
  {
   "cell_type": "code",
   "execution_count": null,
   "metadata": {},
   "outputs": [],
   "source": [
    "chi2_full = chi2(data_noise, data, 0.2)\n",
    "print(chi2_full.data)\n",
    "chi2_red = chi2_full/100\n",
    "print(chi2_red.data)"
   ]
  },
  {
   "cell_type": "code",
   "execution_count": null,
   "metadata": {},
   "outputs": [],
   "source": [
    "chi2_full = chi2(data_noise, data, 2)\n",
    "print(chi2_full.data)\n",
    "chi2_red = chi2_full/100\n",
    "print(chi2_red.data)"
   ]
  },
  {
   "cell_type": "code",
   "execution_count": null,
   "metadata": {},
   "outputs": [],
   "source": [
    "chi2_full = chi2(data_noise, data, .02)\n",
    "print(chi2_full.data)\n",
    "chi2_red = chi2_full/100\n",
    "print(chi2_red.data)"
   ]
  },
  {
   "cell_type": "code",
   "execution_count": null,
   "metadata": {},
   "outputs": [],
   "source": [
    "chi2_full = chi2(data, data, 0.2)\n",
    "print(chi2_full.data)\n",
    "chi2_red = chi2_full/100\n",
    "print(chi2_red.data)"
   ]
  },
  {
   "cell_type": "code",
   "execution_count": null,
   "metadata": {},
   "outputs": [],
   "source": [
    "res = []\n",
    "data_noise = xr.DataArray(data=0, coords={\"x\":np.linspace(1, 10,100)}, dims=[\"x\"])\n",
    "data = xr.DataArray(data=0, coords={\"x\":np.linspace(1, 10,100)}, dims=[\"x\"])\n",
    "data = func(data.x, 5)\n",
    "for i in range(1000):\n",
    "    data_noise = func(data.x, 5) + np.random.normal(0, 0.2, 100)\n",
    "    res.append(chi2(data_noise, data, 0.2).data)"
   ]
  },
  {
   "cell_type": "code",
   "execution_count": null,
   "metadata": {},
   "outputs": [],
   "source": [
    "plt.figure()\n",
    "plt.hist(res, np.linspace(0, 200, 100));"
   ]
  },
  {
   "cell_type": "markdown",
   "metadata": {},
   "source": [
    "# Task 2"
   ]
  },
  {
   "cell_type": "code",
   "execution_count": null,
   "metadata": {},
   "outputs": [],
   "source": [
    "def gaussian(x, mu, sig):\n",
    "    return (\n",
    "        1.0 / (np.sqrt(2.0 * np.pi) * sig) * np.exp(-np.power((x - mu) / sig, 2.0) / 2)\n",
    "    )"
   ]
  },
  {
   "cell_type": "code",
   "execution_count": null,
   "metadata": {},
   "outputs": [],
   "source": [
    "import numpy as np\n",
    "import scipy.signal\n",
    "import matplotlib.pyplot as plt\n",
    "from scipy.signal import savgol_filter\n",
    "\n",
    "# let the signal be box-like\n",
    "signal = np.repeat([0., 1., 0.], 100)\n",
    "# and use a gaussian filter\n",
    "gauss = gaussian(np.linspace(0, 50,50), 25, 12/np.sqrt(2))\n",
    "gauss = gauss/gauss.sum()\n",
    "\n",
    "# calculate the convolution (np.convolve and scipy.signal.convolve identical)\n",
    "# the keywordargument mode=\"same\" ensures that the convolution spans the same\n",
    "#   shape as the input array.\n",
    "#filtered = scipy.signal.convolve(signal, gauss, mode='same') \n",
    "filtered = np.convolve(signal, gauss, mode='same')\n",
    "\n",
    "#filtered_noise = np.convolve(signal, gauss, mode='same') +np.random.normal(0, 0.0001, len(signal))\n",
    "\n",
    "#filtered_smoothed = savgol_filter(filtered_noise, 51, 3)\n",
    "\n",
    "deconv,  _ = scipy.signal.deconvolve( filtered, gauss )\n",
    "#the deconvolution has n = len(signal) - len(gauss) + 1 points\n",
    "n = len(signal)-len(gauss)+1\n",
    "# so we need to expand it by \n",
    "s = int((len(signal)-n)/2)\n",
    "#on both sides.\n",
    "deconv_res = np.zeros(len(signal))\n",
    "deconv_res[s:len(signal)-s-1] = deconv\n",
    "deconv = deconv_res\n",
    "# now deconv contains the deconvolution \n",
    "# expanded to the original shape (filled with zeros) \n",
    "\n",
    "\n",
    "#### Plot #### \n",
    "fig , ax = plt.subplots(nrows=4, figsize=(6,7))\n",
    "\n",
    "ax[0].plot(signal,            color=\"#907700\", label=\"original\",     lw=3 ) \n",
    "ax[1].plot(gauss,          color=\"#68934e\", label=\"gauss filter\", lw=3 )\n",
    "# we need to divide by the sum of the filter window to get the convolution normalized to 1\n",
    "ax[2].plot(filtered/np.sum(gauss), color=\"#325cab\", label=\"convoluted\" ,  lw=3 )\n",
    "ax[3].plot(deconv,         color=\"#ab4232\", label=\"deconvoluted\", lw=3 ) \n",
    "\n",
    "for i in range(len(ax)):\n",
    "    ax[i].set_xlim([0, len(signal)])\n",
    "    #ax[i].set_ylim([-0.07, 1.2])\n",
    "    ax[i].legend(loc=1, fontsize=11)\n",
    "    if i != len(ax)-1 :\n",
    "        ax[i].set_xticklabels([])\n",
    "\n",
    "plt.show()  "
   ]
  },
  {
   "cell_type": "code",
   "execution_count": null,
   "metadata": {},
   "outputs": [],
   "source": [
    "filtered_noise = np.convolve(signal, gauss, mode='same') +np.random.normal(0, 0.00001, len(signal))\n",
    "\n",
    "deconv,  _ = scipy.signal.deconvolve( filtered_noise, gauss )\n",
    "#the deconvolution has n = len(signal) - len(gauss) + 1 points\n",
    "n = len(signal)-len(gauss)+1\n",
    "# so we need to expand it by \n",
    "s = int((len(signal)-n)/2)\n",
    "#on both sides.\n",
    "deconv_res = np.zeros(len(signal))\n",
    "deconv_res[s:len(signal)-s-1] = deconv\n",
    "deconv = deconv_res\n",
    "# now deconv contains the deconvolution \n",
    "# expanded to the original shape (filled with zeros) \n",
    "\n",
    "\n",
    "#### Plot #### \n",
    "fig , ax = plt.subplots(nrows=4, figsize=(6,7))\n",
    "\n",
    "ax[0].plot(signal,            color=\"#907700\", label=\"original\",     lw=3 ) \n",
    "ax[1].plot(gauss,          color=\"#68934e\", label=\"gauss filter\", lw=3 )\n",
    "# we need to divide by the sum of the filter window to get the convolution normalized to 1\n",
    "ax[2].plot(filtered/np.sum(gauss), color=\"#325cab\", label=\"convoluted\" ,  lw=3 )\n",
    "ax[3].plot(deconv,         color=\"#ab4232\", label=\"deconvoluted\", lw=3 ) \n",
    "\n",
    "for i in range(len(ax)):\n",
    "    ax[i].set_xlim([0, len(signal)])\n",
    "    #ax[i].set_ylim([-0.07, 1.2])\n",
    "    ax[i].legend(loc=1, fontsize=11)\n",
    "    if i != len(ax)-1 :\n",
    "        ax[i].set_xticklabels([])\n",
    "\n",
    "plt.show()  \n"
   ]
  },
  {
   "cell_type": "code",
   "execution_count": null,
   "metadata": {},
   "outputs": [],
   "source": [
    "gauss_cut = gauss[gauss>gauss.max()*0.1]\n",
    "filtered_noise = np.convolve(signal, gauss_cut, mode='same') +np.random.normal(0, 0.00001, len(signal))\n",
    "deconv,  _ = scipy.signal.deconvolve( filtered_noise, gauss_cut )\n",
    "#the deconvolution has n = len(signal) - len(gauss) + 1 points\n",
    "n = len(signal)-len(gauss_cut)+1\n",
    "# so we need to expand it by \n",
    "s = int((len(signal)-n)/2)\n",
    "#on both sides.\n",
    "deconv_res = np.zeros(len(signal))\n",
    "deconv_res[s:len(signal)-s-1] = deconv\n",
    "deconv = deconv_res\n",
    "# now deconv contains the deconvolution \n",
    "# expanded to the original shape (filled with zeros) \n",
    "\n",
    "\n",
    "#### Plot #### \n",
    "fig , ax = plt.subplots(nrows=4, figsize=(6,7))\n",
    "\n",
    "ax[0].plot(signal,            color=\"#907700\", label=\"original\",     lw=3 ) \n",
    "ax[1].plot(gauss,          color=\"#68934e\", label=\"gauss filter\", lw=3 )\n",
    "# we need to divide by the sum of the filter window to get the convolution normalized to 1\n",
    "ax[2].plot(filtered/np.sum(gauss), color=\"#325cab\", label=\"convoluted\" ,  lw=3 )\n",
    "ax[3].plot(deconv,         color=\"#ab4232\", label=\"deconvoluted\", lw=3 ) \n",
    "\n",
    "for i in range(len(ax)):\n",
    "    ax[i].set_xlim([0, len(signal)])\n",
    "    #ax[i].set_ylim([-0.07, 1.2])\n",
    "    ax[i].legend(loc=1, fontsize=11)\n",
    "    if i != len(ax)-1 :\n",
    "        ax[i].set_xticklabels([])\n",
    "\n",
    "plt.show()  "
   ]
  },
  {
   "cell_type": "markdown",
   "metadata": {},
   "source": [
    "# Task 3"
   ]
  },
  {
   "cell_type": "code",
   "execution_count": null,
   "metadata": {},
   "outputs": [],
   "source": [
    "signal = xr.DataArray(data=0, coords={\"x\":np.linspace(0, 10000 ,10000)}, dims=[\"x\"])\n",
    "signal = np.sin(signal.x/10000*np.pi*2*100)"
   ]
  },
  {
   "cell_type": "code",
   "execution_count": null,
   "metadata": {},
   "outputs": [],
   "source": [
    "signal.plot()"
   ]
  },
  {
   "cell_type": "code",
   "execution_count": null,
   "metadata": {},
   "outputs": [],
   "source": [
    "signal.mean().data.item()"
   ]
  },
  {
   "cell_type": "code",
   "execution_count": null,
   "metadata": {},
   "outputs": [],
   "source": [
    "signal2 = signal*signal"
   ]
  },
  {
   "cell_type": "code",
   "execution_count": null,
   "metadata": {},
   "outputs": [],
   "source": [
    "signal2.mean().data.item()"
   ]
  },
  {
   "cell_type": "code",
   "execution_count": null,
   "metadata": {},
   "outputs": [],
   "source": [
    "signal1 = xr.DataArray(data=0, coords={\"x\":np.linspace(0, 10000 ,10000)}, dims=[\"x\"])\n",
    "signal1 = np.sin(signal1.x/10000*np.pi*2*100)\n",
    "signal2 = xr.DataArray(data=0, coords={\"x\":np.linspace(0, 10000 ,10000)}, dims=[\"x\"])\n",
    "signal2 = np.sin(signal2.x/10000*np.pi*2*101)\n",
    "(signal1*signal2).mean().data.item()"
   ]
  },
  {
   "cell_type": "code",
   "execution_count": null,
   "metadata": {},
   "outputs": [],
   "source": [
    "amplitudes = []\n",
    "signal1 = xr.DataArray(data=0, coords={\"x\":np.linspace(0, 10000 ,10000)}, dims=[\"x\"])\n",
    "signal1 = np.sin(signal1.x/10000*np.pi*2*100)\n",
    "signal2 = xr.DataArray(data=0, coords={\"x\":np.linspace(0, 10000 ,10000)}, dims=[\"x\"])\n",
    "for frequ in np.linspace(95, 105, 500):\n",
    "    signal2 = np.sin(signal2.x/10000*np.pi*2*frequ)\n",
    "    amplitudes.append((signal1*signal2).mean().data)\n",
    "\n",
    "plt.plot(np.linspace(95, 105, 500), amplitudes);\n"
   ]
  },
  {
   "cell_type": "code",
   "execution_count": null,
   "metadata": {},
   "outputs": [],
   "source": [
    "amplitudes = []\n",
    "signal1 = xr.DataArray(data=0, coords={\"x\":np.linspace(0, 100000 ,10000)}, dims=[\"x\"])\n",
    "signal1 = np.sin(signal1.x/10000*np.pi*2*100)\n",
    "signal2 = xr.DataArray(data=0, coords={\"x\":np.linspace(0, 100000 ,10000)}, dims=[\"x\"])\n",
    "for frequ in np.linspace(95, 105, 500):\n",
    "    signal2 = np.sin(signal2.x/10000*np.pi*2*frequ)\n",
    "    amplitudes.append((signal1*signal2).mean().data)\n",
    "\n",
    "plt.plot(np.linspace(95, 105, 500), amplitudes);"
   ]
  },
  {
   "cell_type": "code",
   "execution_count": null,
   "metadata": {},
   "outputs": [],
   "source": [
    "amplitudes = []\n",
    "signal1 = xr.DataArray(data=0, coords={\"x\":np.linspace(0, 1000 ,10000)}, dims=[\"x\"])\n",
    "signal1 = np.sin(signal1.x/10000*np.pi*2*100)\n",
    "signal2 = xr.DataArray(data=0, coords={\"x\":np.linspace(0, 1000 ,10000)}, dims=[\"x\"])\n",
    "for frequ in np.linspace(95, 105, 500):\n",
    "    signal2 = np.sin(signal2.x/10000*np.pi*2*frequ)\n",
    "    amplitudes.append((signal1*signal2).mean().data)\n",
    "\n",
    "plt.plot(np.linspace(95, 105, 500), amplitudes);"
   ]
  },
  {
   "cell_type": "code",
   "execution_count": null,
   "metadata": {},
   "outputs": [],
   "source": [
    "signal1 = xr.DataArray(data=0, coords={\"x\":np.linspace(0, 1000 ,10000)}, dims=[\"x\"])\n",
    "signal1 = np.sin(signal1.x/10000*np.pi*2*100)\n",
    "signal_noisy = xr.DataArray(data=0, coords={\"x\":np.linspace(0, 10000 ,10000)}, dims=[\"x\"])\n",
    "signal_noisy = np.sin(signal.x/10000*np.pi*2*100)*0.1 + np.random.normal(0, 1, 10000)"
   ]
  },
  {
   "cell_type": "code",
   "execution_count": null,
   "metadata": {},
   "outputs": [],
   "source": [
    "signal_noisy.plot();"
   ]
  },
  {
   "cell_type": "code",
   "execution_count": null,
   "metadata": {},
   "outputs": [],
   "source": [
    "(signal_noisy*signal1).mean().data.item()"
   ]
  },
  {
   "cell_type": "code",
   "execution_count": null,
   "metadata": {},
   "outputs": [],
   "source": [
    "amplitudes = []\n",
    "for amp in np.linspace(0, 1, 50):\n",
    "    signal_noisy = np.sin(signal.x/10000*np.pi*2*100)*amp + np.random.normal(0, 1, 10000)\n",
    "    amplitudes.append((signal_noisy*signal1).mean().data*2)\n",
    "\n",
    "plt.plot(np.linspace(0, 1, 50), amplitudes);"
   ]
  },
  {
   "cell_type": "code",
   "execution_count": null,
   "metadata": {},
   "outputs": [],
   "source": []
  }
 ],
 "metadata": {
  "kernelspec": {
   "display_name": "Python 3",
   "language": "python",
   "name": "python3"
  },
  "language_info": {
   "codemirror_mode": {
    "name": "ipython",
    "version": 3
   },
   "file_extension": ".py",
   "mimetype": "text/x-python",
   "name": "python",
   "nbconvert_exporter": "python",
   "pygments_lexer": "ipython3",
   "version": "3.12.0"
  }
 },
 "nbformat": 4,
 "nbformat_minor": 2
}
