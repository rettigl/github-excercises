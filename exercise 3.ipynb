{
 "cells": [
  {
   "cell_type": "code",
   "execution_count": null,
   "metadata": {},
   "outputs": [],
   "source": [
    "import numpy as np\n",
    "import matplotlib.pyplot as plt"
   ]
  },
  {
   "cell_type": "markdown",
   "metadata": {},
   "source": [
    "# Task 1"
   ]
  },
  {
   "cell_type": "code",
   "execution_count": null,
   "metadata": {},
   "outputs": [],
   "source": [
    "def gaussian(x, mu, sig):\n",
    "    return (\n",
    "        1.0 / (np.sqrt(2.0 * np.pi) * sig) * np.exp(-np.power((x - mu) / sig, 2.0) / 2)\n",
    "    )"
   ]
  },
  {
   "cell_type": "code",
   "execution_count": null,
   "metadata": {},
   "outputs": [],
   "source": [
    "# uniform distribution with unit variance\n",
    "x1 = np.random.uniform(-np.sqrt(3), np.sqrt(3), size=100000)\n",
    "plt.hist(x1, np.arange(-5, 5, .1))\n",
    "x = np.arange(-5, 5, .1)\n",
    "plt.plot(x, gaussian(x, 0, 1)*10000)"
   ]
  },
  {
   "cell_type": "code",
   "execution_count": null,
   "metadata": {},
   "outputs": [],
   "source": [
    "x1 = np.random.uniform(-np.sqrt(3), np.sqrt(3), size=100000)\n",
    "x2 = np.random.uniform(-np.sqrt(3), np.sqrt(3), size=100000)\n",
    "plt.hist((x1+x2)/np.sqrt(2), np.arange(-5, 5, .1))\n",
    "x = np.arange(-5, 5, .1)\n",
    "plt.plot(x, gaussian(x, 0, 1)*10000)"
   ]
  },
  {
   "cell_type": "code",
   "execution_count": null,
   "metadata": {},
   "outputs": [],
   "source": [
    "x1 = np.random.uniform(-np.sqrt(3), np.sqrt(3), size=100000)\n",
    "x2 = np.random.uniform(-np.sqrt(3), np.sqrt(3), size=100000)\n",
    "x3 = np.random.uniform(-np.sqrt(3), np.sqrt(3), size=100000)\n",
    "plt.hist((x1+x2+x3)/np.sqrt(3), np.arange(-5, 5, .1))\n",
    "x = np.arange(-5, 5, .1)\n",
    "plt.plot(x, gaussian(x, 0, 1)*10000)"
   ]
  },
  {
   "cell_type": "code",
   "execution_count": null,
   "metadata": {},
   "outputs": [],
   "source": [
    "x1 = np.random.uniform(-np.sqrt(3), np.sqrt(3), size=100000)\n",
    "x2 = np.random.uniform(-np.sqrt(3), np.sqrt(3), size=100000)\n",
    "x3 = np.random.uniform(-np.sqrt(3), np.sqrt(3), size=100000)\n",
    "x4 = np.random.uniform(-np.sqrt(3), np.sqrt(3), size=100000)\n",
    "plt.hist((x1+x2+x3+x4)/np.sqrt(4), np.arange(-5, 5, .1))\n",
    "x = np.arange(-5, 5, .1)\n",
    "plt.plot(x, gaussian(x, 0, 1)*10000)"
   ]
  },
  {
   "cell_type": "markdown",
   "metadata": {},
   "source": [
    "# Task 2"
   ]
  },
  {
   "cell_type": "code",
   "execution_count": null,
   "metadata": {},
   "outputs": [],
   "source": [
    "samples = []\n",
    "\n",
    "for i in range(100):\n",
    "    samples.append(np.random.normal(loc=2, scale=3, size=5))\n"
   ]
  },
  {
   "cell_type": "code",
   "execution_count": null,
   "metadata": {},
   "outputs": [],
   "source": [
    "import scipy.stats as st\n",
    "# The function ppf from the scipy.stats.norm package can be used to determine the rejection regions in units of standard deviations\n",
    "# It however calculates normally one-sided rejection regions, so we need to transform our p-values\n",
    "p = 0.685\n",
    "mu = 3\n",
    "sigma = 2\n",
    "left_boundary_sigma = st.norm.ppf((1-p)/2)\n",
    "right_boundary_sigma = st.norm.ppf(1-(1-p)/2)\n",
    "print(left_boundary_sigma, right_boundary_sigma)\n",
    "# for sigma we take the standard deviation of the sample mean\n",
    "left_boundary = mu + sigma/np.sqrt(5)*left_boundary_sigma\n",
    "right_boundary = mu + sigma/np.sqrt(5)*right_boundary_sigma\n",
    "print(left_boundary, right_boundary)\n",
    "p = 0.95\n",
    "left_boundary_sigma = st.norm.ppf((1-p)/2)\n",
    "right_boundary_sigma = st.norm.ppf(1-(1-p)/2)\n",
    "print(left_boundary_sigma, right_boundary_sigma)\n",
    "left_boundary = mu + sigma/np.sqrt(5)*left_boundary_sigma\n",
    "right_boundary = mu + sigma/np.sqrt(5)*right_boundary_sigma\n",
    "print(left_boundary, right_boundary)"
   ]
  },
  {
   "cell_type": "code",
   "execution_count": null,
   "metadata": {},
   "outputs": [],
   "source": [
    "def check(sample, mu, sig, p):\n",
    "    left_boundary = st.norm.ppf((1-p)/2)\n",
    "    right_boundary = st.norm.ppf(1-(1-p)/2)\n",
    "    return sample.mean()>mu+sig/np.sqrt(len(sample))*left_boundary and sample.mean()<mu+sig/np.sqrt(len(sample))*right_boundary"
   ]
  },
  {
   "cell_type": "code",
   "execution_count": null,
   "metadata": {},
   "outputs": [],
   "source": [
    "check(samples[8], 2, 3, .685)"
   ]
  },
  {
   "cell_type": "code",
   "execution_count": null,
   "metadata": {},
   "outputs": [],
   "source": [
    "pass_confidence_test = []\n",
    "for sample in samples:\n",
    "    pass_confidence_test.append(check(sample, 2, 3, .685))"
   ]
  },
  {
   "cell_type": "code",
   "execution_count": null,
   "metadata": {},
   "outputs": [],
   "source": [
    "np.array(pass_confidence_test).sum()/len(pass_confidence_test)"
   ]
  },
  {
   "cell_type": "code",
   "execution_count": null,
   "metadata": {},
   "outputs": [],
   "source": [
    "def make_confidence_intervals(sample, sig, p):\n",
    "    left_boundary = st.norm.ppf((1-p)/2)\n",
    "    right_boundary = st.norm.ppf(1-(1-p)/2)\n",
    "    return sample.mean(), sample.mean()+sig/np.sqrt(len(sample))*left_boundary, sample.mean()+sig/np.sqrt(len(sample))*right_boundary"
   ]
  },
  {
   "cell_type": "code",
   "execution_count": null,
   "metadata": {},
   "outputs": [],
   "source": [
    "make_confidence_intervals(samples[0], 3, .685)"
   ]
  },
  {
   "cell_type": "code",
   "execution_count": null,
   "metadata": {},
   "outputs": [],
   "source": [
    "means = []\n",
    "errors = []\n",
    "for sample in samples:\n",
    "    means.append(make_confidence_intervals(sample, 3, .685)[0])\n",
    "    errors.append(make_confidence_intervals(sample, 3, .685)[1:3])"
   ]
  },
  {
   "cell_type": "code",
   "execution_count": null,
   "metadata": {},
   "outputs": [],
   "source": [
    "import matplotlib.pyplot as plt\n",
    "y = range(len(means))\n",
    "errors_ = [[-(error[0]-mean), error[1]-mean] for error, mean in zip(errors, means)]\n",
    "plt.errorbar(means, np.array(y)*50, xerr=np.array(errors_).T, marker='s', ls=\"\")\n",
    "plt.axvline(2)"
   ]
  },
  {
   "cell_type": "code",
   "execution_count": null,
   "metadata": {},
   "outputs": [],
   "source": [
    "mu_within_ci = []\n",
    "for error in errors:\n",
    "    mu_within_ci.append(error[0]<2<error[1])\n"
   ]
  },
  {
   "cell_type": "code",
   "execution_count": null,
   "metadata": {},
   "outputs": [],
   "source": [
    "np.array(mu_within_ci).sum()/len(mu_within_ci)"
   ]
  },
  {
   "cell_type": "code",
   "execution_count": null,
   "metadata": {},
   "outputs": [],
   "source": [
    "pass_confidence_test==mu_within_ci"
   ]
  },
  {
   "cell_type": "markdown",
   "metadata": {},
   "source": [
    "# Task 3"
   ]
  },
  {
   "cell_type": "code",
   "execution_count": null,
   "metadata": {},
   "outputs": [],
   "source": [
    "# when using np.var or np.std, you can pass ddof to take the n-1 denominator factor into account\n",
    "means = []\n",
    "variances = []\n",
    "for i in range(100000):\n",
    "    means.append(np.random.normal(loc=2, scale=3, size=10).mean())\n",
    "    variances.append(np.random.normal(loc=3, scale=2, size=10).var(ddof=1))"
   ]
  },
  {
   "cell_type": "code",
   "execution_count": null,
   "metadata": {},
   "outputs": [],
   "source": [
    "hist, edges = np.histogram(means, np.linspace(-2, 6, 60))\n",
    "plt.stairs(hist/hist.sum(), edges, fill=True)\n",
    "x = np.linspace(-2, 6, 60)\n",
    "y = gaussian(x, 2, 3/np.sqrt(10))\n",
    "plt.plot(x, y/y.sum())"
   ]
  },
  {
   "cell_type": "code",
   "execution_count": null,
   "metadata": {},
   "outputs": [],
   "source": [
    "hist, edges = np.histogram(variances, np.linspace(0, 20, 60))\n",
    "plt.stairs(hist/hist.sum(), edges, fill=True)\n",
    "x = np.linspace(0, 20, 60)\n",
    "y=gaussian(x, 3.5, 5/np.sqrt(10))\n",
    "plt.plot(x, y/y.sum())"
   ]
  },
  {
   "cell_type": "code",
   "execution_count": null,
   "metadata": {},
   "outputs": [],
   "source": [
    "from scipy.special import gamma\n",
    "def chi2(x, n):\n",
    "    return (1/2)**(n/2)*1/(gamma(n/2))*np.exp(-x/2)*x**(n/2-1)"
   ]
  },
  {
   "cell_type": "code",
   "execution_count": null,
   "metadata": {},
   "outputs": [],
   "source": [
    "hist, edges = np.histogram(variances, np.linspace(0, 20, 60))\n",
    "plt.stairs(hist/hist.sum(), edges, fill=True)\n",
    "x = np.linspace(0, 20, 60)\n",
    "y=chi2(x*9/np.array(variances).mean(), 9)\n",
    "plt.plot(x, y/y.sum())"
   ]
  },
  {
   "cell_type": "code",
   "execution_count": null,
   "metadata": {},
   "outputs": [],
   "source": []
  }
 ],
 "metadata": {
  "kernelspec": {
   "display_name": "Python 3",
   "language": "python",
   "name": "python3"
  },
  "language_info": {
   "codemirror_mode": {
    "name": "ipython",
    "version": 3
   },
   "file_extension": ".py",
   "mimetype": "text/x-python",
   "name": "python",
   "nbconvert_exporter": "python",
   "pygments_lexer": "ipython3",
   "version": "3.12.0"
  }
 },
 "nbformat": 4,
 "nbformat_minor": 2
}
